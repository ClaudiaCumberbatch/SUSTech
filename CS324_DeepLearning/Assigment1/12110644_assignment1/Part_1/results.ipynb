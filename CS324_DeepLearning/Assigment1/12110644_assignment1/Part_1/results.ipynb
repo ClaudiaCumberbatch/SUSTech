{
 "cells": [
  {
   "cell_type": "code",
   "execution_count": 3,
   "metadata": {},
   "outputs": [],
   "source": [
    "import numpy as np\n",
    "import matplotlib.pyplot as plt\n",
    "import subprocess\n",
    "import json\n",
    "\n",
    "# 定义一个函数来运行 train_mlp_numpy.py 并捕获输出\n",
    "def run_training_script(type: str):\n",
    "    result = subprocess.run([\n",
    "        'python', 'train.py',\n",
    "        '--type', type\n",
    "    ], capture_output=True, text=True)\n",
    "    return result.stdout\n"
   ]
  },
  {
   "cell_type": "code",
   "execution_count": 4,
   "metadata": {},
   "outputs": [
    {
     "name": "stdout",
     "output_type": "stream",
     "text": [
      "mean1: [0, 0], Accuracy: 0.975\n",
      "mean1: [1, 1], Accuracy: 1.0\n",
      "mean1: [2, 2], Accuracy: 0.5\n",
      "mean1: [3, 3], Accuracy: 0.5\n",
      "mean1: [4, 4], Accuracy: 0.5\n",
      "mean1: [5, 5], Accuracy: 0.5\n",
      "mean1: [6, 6], Accuracy: 0.5\n",
      "mean1: [7, 7], Accuracy: 0.5\n",
      "mean1: [8, 8], Accuracy: 0.5\n",
      "\n",
      "cov1: [[1, 0], [0, 1]], Accuracy: 1.0\n",
      "cov1: [[2, 0], [0, 2]], Accuracy: 1.0\n",
      "cov1: [[3, 0], [0, 3]], Accuracy: 0.975\n",
      "cov1: [[4, 0], [0, 4]], Accuracy: 1.0\n",
      "cov1: [[5, 0], [0, 5]], Accuracy: 1.0\n",
      "cov1: [[6, 0], [0, 6]], Accuracy: 0.95\n",
      "cov1: [[7, 0], [0, 7]], Accuracy: 0.85\n",
      "cov1: [[8, 0], [0, 8]], Accuracy: 0.925\n",
      "\n"
     ]
    }
   ],
   "source": [
    "for type in ['mean', 'cov']:\n",
    "    output = run_training_script(type)\n",
    "    print(output)"
   ]
  },
  {
   "cell_type": "code",
   "execution_count": null,
   "metadata": {},
   "outputs": [],
   "source": []
  }
 ],
 "metadata": {
  "kernelspec": {
   "display_name": "dl308",
   "language": "python",
   "name": "python3"
  },
  "language_info": {
   "codemirror_mode": {
    "name": "ipython",
    "version": 3
   },
   "file_extension": ".py",
   "mimetype": "text/x-python",
   "name": "python",
   "nbconvert_exporter": "python",
   "pygments_lexer": "ipython3",
   "version": "3.8.19"
  }
 },
 "nbformat": 4,
 "nbformat_minor": 2
}
