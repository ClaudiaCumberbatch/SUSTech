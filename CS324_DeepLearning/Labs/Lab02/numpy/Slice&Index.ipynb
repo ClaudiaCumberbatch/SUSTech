{
 "cells": [
  {
   "cell_type": "markdown",
   "metadata": {},
   "source": [
    "# Slice & Index"
   ]
  },
  {
   "cell_type": "code",
   "execution_count": 3,
   "metadata": {},
   "outputs": [],
   "source": [
    "import numpy as np"
   ]
  },
  {
   "cell_type": "markdown",
   "metadata": {},
   "source": [
    "## Index"
   ]
  },
  {
   "cell_type": "code",
   "execution_count": 41,
   "metadata": {},
   "outputs": [
    {
     "name": "stdout",
     "output_type": "stream",
     "text": [
      "[0 1 2 3 4 5 6 7 8 9]\n",
      "4\n",
      "[[0 1 2 3 4]\n",
      " [5 6 7 8 9]]\n",
      "8\n",
      "\n",
      "[5 6 7 8 9]\n",
      "8\n"
     ]
    }
   ],
   "source": [
    "a = np.arange(10); print(a)\n",
    "print(a[4]) # 1-dim index\n",
    "a = np.arange(10).reshape(2,5); print(a)\n",
    "print(a[1, 3]) # 2-dim index\n",
    "\n",
    "print()\n",
    "print(a[1]) # get the 1-row\n",
    "print(a[1][3]) # get the 3-element from 1-row"
   ]
  },
  {
   "cell_type": "markdown",
   "metadata": {},
   "source": [
    "## Slice\n",
    "#### [start index : end index : gap], start index is included while end index is not included\n",
    "Slicing use the same memory with the tensor, the implementation can be seen as recording required indexes."
   ]
  },
  {
   "cell_type": "code",
   "execution_count": 16,
   "metadata": {},
   "outputs": [
    {
     "name": "stdout",
     "output_type": "stream",
     "text": [
      "[0 1 2 3 4 5 6 7 8 9]\n",
      "[0 1 2 3 4 5 6]\n",
      "[2 3 4 5 6]\n",
      "[2 3 4 5 6 7 8 9]\n",
      "[0 1 2 3 4 5 6 7 8]\n"
     ]
    }
   ],
   "source": [
    "a = np.arange(10); print(a)\n",
    "print(a[0:7])\n",
    "print(a[2:7])\n",
    "print(a[2:])\n",
    "print(a[:9])"
   ]
  },
  {
   "cell_type": "code",
   "execution_count": 24,
   "metadata": {},
   "outputs": [
    {
     "name": "stdout",
     "output_type": "stream",
     "text": [
      "[0 1 2 3 4 5 6 7 8 9]\n",
      "[2 4 6 8]\n",
      "[9 8 7 6 5 4 3]\n",
      "[9 8 7 6 5 4 3 2 1 0]\n"
     ]
    }
   ],
   "source": [
    "a = np.arange(10)\n",
    "print(a[:])\n",
    "print(a[2:9:2])\n",
    "print(a[9:2:-1])\n",
    "print(a[::-1]) # a reverse method"
   ]
  },
  {
   "cell_type": "code",
   "execution_count": 37,
   "metadata": {},
   "outputs": [
    {
     "name": "stdout",
     "output_type": "stream",
     "text": [
      "[[0 1 2 3 4]\n",
      " [5 6 7 8 9]]\n",
      "[[0 1]\n",
      " [5 6]]\n",
      "\n",
      "[0 1 2 3 4]\n",
      "[[0 1 2 3 4]]\n"
     ]
    }
   ],
   "source": [
    "a = np.arange(10).reshape(2,5); print(a)\n",
    "print(a[:, :2]) # the first two columns\n",
    "print()\n",
    "# slice will not reduce the dimension, but index will\n",
    "print(a[0, :]) # the first row, 0 is index, the dimension is reduced\n",
    "print(a[0:1, :]) # the first row, 0:1 is slice, the dimension is reduced"
   ]
  },
  {
   "cell_type": "markdown",
   "metadata": {},
   "source": [
    "### boolen Index"
   ]
  },
  {
   "cell_type": "code",
   "execution_count": 42,
   "metadata": {},
   "outputs": [
    {
     "name": "stdout",
     "output_type": "stream",
     "text": [
      "[[False False False]\n",
      " [False False False]\n",
      " [ True  True  True]\n",
      " [ True  True  True]]\n",
      "[ 6  7  8  9 10 11]\n"
     ]
    }
   ],
   "source": [
    "x = np.array([[0, 1, 2],[3, 4, 5],[6, 7, 8],[9, 10, 11]])\n",
    "print(x>5)\n",
    "print(x[x > 5]) # boolen index array (same shape with x) to select the elements"
   ]
  }
 ],
 "metadata": {
  "kernelspec": {
   "display_name": "Python 3",
   "language": "python",
   "name": "python3"
  },
  "language_info": {
   "codemirror_mode": {
    "name": "ipython",
    "version": 3
   },
   "file_extension": ".py",
   "mimetype": "text/x-python",
   "name": "python",
   "nbconvert_exporter": "python",
   "pygments_lexer": "ipython3",
   "version": "3.11.8"
  }
 },
 "nbformat": 4,
 "nbformat_minor": 4
}
