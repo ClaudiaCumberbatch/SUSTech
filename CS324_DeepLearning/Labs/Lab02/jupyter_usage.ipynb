{
 "cells": [
  {
   "cell_type": "markdown",
   "metadata": {},
   "source": [
    "# Jupyter Notebook"
   ]
  },
  {
   "cell_type": "code",
   "execution_count": null,
   "metadata": {},
   "outputs": [],
   "source": [
    "# create a new cell before current cell\n",
    "press A\n",
    "# create a new cell after current cell\n",
    "press B\n",
    "# delete current cell\n",
    "double press D or press Delete"
   ]
  },
  {
   "cell_type": "code",
   "execution_count": null,
   "metadata": {},
   "outputs": [],
   "source": [
    "# undo operations (create or delete) for cells (while selecting a cell, not selecting the text in a cell)\n",
    "press Z \n",
    "# switch from selecting a cell to editing a cell\n",
    "press Enter \n",
    "# switch from editing a cell to selecting a cell\n",
    "press Ese"
   ]
  },
  {
   "cell_type": "code",
   "execution_count": null,
   "metadata": {},
   "outputs": [],
   "source": [
    "# run current cell and skip to the next cell\n",
    "press Enter+Shift\n",
    "# run current cell and not skip to the next cell\n",
    "press Enter+Control"
   ]
  },
  {
   "cell_type": "code",
   "execution_count": null,
   "metadata": {},
   "outputs": [],
   "source": [
    "# transform the current code cell to markdown mode (while selecting the cell)\n",
    "press M\n",
    "# transform the current markdown cell to code mode (while selecting the cell)\n",
    "press Y"
   ]
  },
  {
   "cell_type": "code",
   "execution_count": null,
   "metadata": {},
   "outputs": [],
   "source": [
    "# Note: even you delete some cells, the running results are still stored in the jupyter, you can restart this whole jupyter by pressing the uppermost \"Restart\" button.\n",
    "# You can also clear all outputs of jupyter by pressing the uppermost \"Clear All Outputs\" button."
   ]
  },
  {
   "cell_type": "markdown",
   "metadata": {},
   "source": [
    "## Exercise"
   ]
  },
  {
   "cell_type": "code",
   "execution_count": null,
   "metadata": {},
   "outputs": [],
   "source": [
    "# add a new cell after this cell and transform it into markdown mode\n",
    "# then copy the following texts in this cell into the new cell you created\n",
    "\n",
    "#### Heading is Here\n",
    "**Double stars can emphasis texts**  \n",
    "*Italic texts*  \n",
    "double space is for switching row"
   ]
  },
  {
   "cell_type": "code",
   "execution_count": 3,
   "metadata": {},
   "outputs": [],
   "source": [
    "# Now you have a well structured markdown cell, run it to see its result\n",
    "# Delete this cell and undo the delete operation for restoring information"
   ]
  }
 ],
 "metadata": {
  "kernelspec": {
   "display_name": "cs324",
   "language": "python",
   "name": "python3"
  },
  "language_info": {
   "codemirror_mode": {
    "name": "ipython",
    "version": 3
   },
   "file_extension": ".py",
   "mimetype": "text/x-python",
   "name": "python",
   "nbconvert_exporter": "python",
   "pygments_lexer": "ipython3",
   "version": "3.11.8"
  }
 },
 "nbformat": 4,
 "nbformat_minor": 2
}
