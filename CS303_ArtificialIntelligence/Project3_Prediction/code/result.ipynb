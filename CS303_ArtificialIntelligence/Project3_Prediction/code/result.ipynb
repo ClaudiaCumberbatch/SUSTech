{
 "cells": [
  {
   "cell_type": "code",
   "execution_count": 1,
   "id": "6d871cda",
   "metadata": {},
   "outputs": [],
   "source": [
    "import pandas as pd\n",
    "import numpy as np"
   ]
  },
  {
   "cell_type": "code",
   "execution_count": 3,
   "id": "2919eafb",
   "metadata": {},
   "outputs": [],
   "source": [
    "decision_tree_df = pd.read_csv(\"../data/decision_tree_label.txt\")\n",
    "ensemble_df = pd.read_csv(\"../data/esemble_label.txt\")\n",
    "knn_df = pd.read_csv(\"../data/KNN_label.txt\")\n",
    "nn_df = pd.read_csv(\"../data/NN_label.txt\")"
   ]
  },
  {
   "cell_type": "code",
   "execution_count": 7,
   "id": "454d1b39",
   "metadata": {},
   "outputs": [],
   "source": [
    "res_df = 0.8613731081377495 * decision_tree_df + 0.8725597718797982 * ensemble_df + 0.8355127608274948 * knn_df + 0.8530379469181838 * nn_df\n"
   ]
  },
  {
   "cell_type": "code",
   "execution_count": 8,
   "id": "dc9dc581",
   "metadata": {},
   "outputs": [
    {
     "data": {
      "text/html": [
       "<div>\n",
       "<style scoped>\n",
       "    .dataframe tbody tr th:only-of-type {\n",
       "        vertical-align: middle;\n",
       "    }\n",
       "\n",
       "    .dataframe tbody tr th {\n",
       "        vertical-align: top;\n",
       "    }\n",
       "\n",
       "    .dataframe thead th {\n",
       "        text-align: right;\n",
       "    }\n",
       "</style>\n",
       "<table border=\"1\" class=\"dataframe\">\n",
       "  <thead>\n",
       "    <tr style=\"text-align: right;\">\n",
       "      <th></th>\n",
       "      <th>0</th>\n",
       "    </tr>\n",
       "  </thead>\n",
       "  <tbody>\n",
       "    <tr>\n",
       "      <th>count</th>\n",
       "      <td>9768.000000</td>\n",
       "    </tr>\n",
       "    <tr>\n",
       "      <th>mean</th>\n",
       "      <td>0.697950</td>\n",
       "    </tr>\n",
       "    <tr>\n",
       "      <th>std</th>\n",
       "      <td>1.235388</td>\n",
       "    </tr>\n",
       "    <tr>\n",
       "      <th>min</th>\n",
       "      <td>0.000000</td>\n",
       "    </tr>\n",
       "    <tr>\n",
       "      <th>25%</th>\n",
       "      <td>0.000000</td>\n",
       "    </tr>\n",
       "    <tr>\n",
       "      <th>50%</th>\n",
       "      <td>0.000000</td>\n",
       "    </tr>\n",
       "    <tr>\n",
       "      <th>75%</th>\n",
       "      <td>0.853038</td>\n",
       "    </tr>\n",
       "    <tr>\n",
       "      <th>max</th>\n",
       "      <td>3.422484</td>\n",
       "    </tr>\n",
       "  </tbody>\n",
       "</table>\n",
       "</div>"
      ],
      "text/plain": [
       "                 0\n",
       "count  9768.000000\n",
       "mean      0.697950\n",
       "std       1.235388\n",
       "min       0.000000\n",
       "25%       0.000000\n",
       "50%       0.000000\n",
       "75%       0.853038\n",
       "max       3.422484"
      ]
     },
     "execution_count": 8,
     "metadata": {},
     "output_type": "execute_result"
    }
   ],
   "source": [
    "res_df.describe()"
   ]
  },
  {
   "cell_type": "code",
   "execution_count": 9,
   "id": "4cfc7fc5",
   "metadata": {},
   "outputs": [
    {
     "data": {
      "text/html": [
       "<div>\n",
       "<style scoped>\n",
       "    .dataframe tbody tr th:only-of-type {\n",
       "        vertical-align: middle;\n",
       "    }\n",
       "\n",
       "    .dataframe tbody tr th {\n",
       "        vertical-align: top;\n",
       "    }\n",
       "\n",
       "    .dataframe thead th {\n",
       "        text-align: right;\n",
       "    }\n",
       "</style>\n",
       "<table border=\"1\" class=\"dataframe\">\n",
       "  <thead>\n",
       "    <tr style=\"text-align: right;\">\n",
       "      <th></th>\n",
       "      <th>0</th>\n",
       "    </tr>\n",
       "  </thead>\n",
       "  <tbody>\n",
       "    <tr>\n",
       "      <th>count</th>\n",
       "      <td>9768.000000</td>\n",
       "    </tr>\n",
       "    <tr>\n",
       "      <th>mean</th>\n",
       "      <td>0.815827</td>\n",
       "    </tr>\n",
       "    <tr>\n",
       "      <th>std</th>\n",
       "      <td>1.443509</td>\n",
       "    </tr>\n",
       "    <tr>\n",
       "      <th>min</th>\n",
       "      <td>0.000000</td>\n",
       "    </tr>\n",
       "    <tr>\n",
       "      <th>25%</th>\n",
       "      <td>0.000000</td>\n",
       "    </tr>\n",
       "    <tr>\n",
       "      <th>50%</th>\n",
       "      <td>0.000000</td>\n",
       "    </tr>\n",
       "    <tr>\n",
       "      <th>75%</th>\n",
       "      <td>1.000000</td>\n",
       "    </tr>\n",
       "    <tr>\n",
       "      <th>max</th>\n",
       "      <td>4.000000</td>\n",
       "    </tr>\n",
       "  </tbody>\n",
       "</table>\n",
       "</div>"
      ],
      "text/plain": [
       "                 0\n",
       "count  9768.000000\n",
       "mean      0.815827\n",
       "std       1.443509\n",
       "min       0.000000\n",
       "25%       0.000000\n",
       "50%       0.000000\n",
       "75%       1.000000\n",
       "max       4.000000"
      ]
     },
     "execution_count": 9,
     "metadata": {},
     "output_type": "execute_result"
    }
   ],
   "source": [
    "ttl = decision_tree_df + ensemble_df + knn_df + nn_df\n",
    "ttl.describe()"
   ]
  },
  {
   "cell_type": "code",
   "execution_count": 11,
   "id": "9d889ebe",
   "metadata": {},
   "outputs": [
    {
     "name": "stdout",
     "output_type": "stream",
     "text": [
      "0\n",
      "0    6996\n",
      "4    1230\n",
      "1     590\n",
      "3     555\n",
      "2     397\n",
      "Name: count, dtype: int64\n"
     ]
    }
   ],
   "source": [
    "value_counts = ttl['0'].value_counts()\n",
    "print(value_counts)"
   ]
  },
  {
   "cell_type": "code",
   "execution_count": 13,
   "id": "d92d7a4f",
   "metadata": {},
   "outputs": [
    {
     "name": "stdout",
     "output_type": "stream",
     "text": [
      "      0\n",
      "0     1\n",
      "1     0\n",
      "2     1\n",
      "3     0\n",
      "4     0\n",
      "...  ..\n",
      "9763  0\n",
      "9764  0\n",
      "9765  1\n",
      "9766  0\n",
      "9767  0\n",
      "\n",
      "[9768 rows x 1 columns]\n"
     ]
    }
   ],
   "source": [
    "# 定义函数进行赋值\n",
    "def assign_value(x):\n",
    "    if x > 1:\n",
    "        return 1\n",
    "    else:\n",
    "        return 0\n",
    "\n",
    "# 应用函数到DataFrame中的每个元素\n",
    "new_df = ttl.applymap(assign_value)\n",
    "\n",
    "# 打印结果\n",
    "print(new_df)"
   ]
  },
  {
   "cell_type": "code",
   "execution_count": 33,
   "id": "7f380c8c",
   "metadata": {},
   "outputs": [
    {
     "name": "stdout",
     "output_type": "stream",
     "text": [
      "预测结果已写入文件: ../data/testlabel.txt\n"
     ]
    }
   ],
   "source": [
    "y_pred = new_df.values.flatten()\n",
    "# 指定要写入的文件路径和文件名\n",
    "output_file = \"../data/testlabel.txt\"\n",
    "\n",
    "# 打开文件并写入预测结果\n",
    "with open(output_file, \"w\") as file:\n",
    "    for prediction in y_pred:\n",
    "        file.write(str(prediction) + \"\\n\")\n",
    "\n",
    "print(\"预测结果已写入文件:\", output_file)"
   ]
  },
  {
   "cell_type": "code",
   "execution_count": null,
   "id": "4117eb68",
   "metadata": {},
   "outputs": [],
   "source": []
  }
 ],
 "metadata": {
  "kernelspec": {
   "display_name": "Python 3 (ipykernel)",
   "language": "python",
   "name": "python3"
  },
  "language_info": {
   "codemirror_mode": {
    "name": "ipython",
    "version": 3
   },
   "file_extension": ".py",
   "mimetype": "text/x-python",
   "name": "python",
   "nbconvert_exporter": "python",
   "pygments_lexer": "ipython3",
   "version": "3.8.16"
  }
 },
 "nbformat": 4,
 "nbformat_minor": 5
}
