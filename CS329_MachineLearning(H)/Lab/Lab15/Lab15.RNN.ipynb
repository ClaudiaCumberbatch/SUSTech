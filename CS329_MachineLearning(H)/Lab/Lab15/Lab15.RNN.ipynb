{
 "cells": [
  {
   "cell_type": "markdown",
   "id": "595b216b-6025-4255-9c75-21035bda8e2b",
   "metadata": {},
   "source": [
    "# LAB14 tutorial for Machine Learning <br > RNN\n",
    "------"
   ]
  },
  {
   "cell_type": "markdown",
   "id": "534ba7d6-51a6-459e-8bf6-a810f911b8db",
   "metadata": {},
   "source": [
    "## Objective\n",
    "\n",
    "- Understanding RNN.\n",
    "- Be able to RNN with Pytorch.\n",
    "\n",
    "------"
   ]
  },
  {
   "cell_type": "markdown",
   "id": "ce7d82c6-0065-4694-9735-c41ea34b4c38",
   "metadata": {},
   "source": [
    "## Introduction for RNN\n",
    "### What is RNN?\n",
    "\n",
    "The Recurrent Neural Network (RNN), is a sort of neural network that can process **sequential** data, which cannot be dealt with by previously introduced neural networks.\n",
    "\n",
    "<img src=\"images/NN.png\" alt=\"Neural network introduced before\" style=\"zoom:25%;margin-left:auto;margin-right:auto\">\n",
    "\n",
    "The above traditional neural network can process traditional data. Each data sample has fixed number of features and they are assumed to be sampled independently and identically from some distribution.\n",
    "\n",
    "But some times people need to deal with sequential data. People may want to translate \"This is a tutorial of RNN\" to other languages. Sequential data is different from other forms of data. That's why we need RNN (image from https://cs231n.github.io/rnn/):\n",
    "\n",
    "<img src=\"images/rnn_blackbox.png\" alt=\"RNN\" style=\"zoom:25%;margin-left:auto;margin-right:auto\">\n",
    "\n",
    "The hidden layer of RNN is pointing to itself. "
   ]
  },
  {
   "cell_type": "markdown",
   "id": "ca98d48c-694a-40ec-855a-cccb79cea1f4",
   "metadata": {},
   "source": [
    "### How RNN works?\n",
    "\n",
    "Let's reveal the figure of RNN.\n",
    "\n",
    "<img src=\"images/unrolledRNN.png\" alt=\"RNN unrolled\" style=\"zoom:25%;margin-left:auto;margin-right:auto\">\n",
    "\n",
    "The above figure shows how data follow when you put sequential data into the network (not exactly the structure of the network). Now suppose $x_1$ is a fixed length vector representing a word (one-hot encoding or word vector, see [word embeddings](https://pytorch.org/tutorials/beginner/nlp/word_embeddings_tutorial.html)). Give $x_1$ as the input of this network, calculate the hidden layer (green block), then calculate the output $y_1$ if necessary. After that, the next word $x_2$ is given as the input. Here is the difference: the hidden layer needs two inputs, $x_2$ and the hidden layer's previous state. This goes on until $x_t$ is processed and the network produce the output $y_t$.\n",
    "\n",
    "For traditional neural network, the hidden layer of the network is calculated as:\n",
    "$$\n",
    "h=f(W \\cdot x)\n",
    "$$\n",
    "\n",
    "For RNN, the hidden layer of the network is calculated as:\n",
    "$$\n",
    "h_t=f(W_h \\cdot h_{t-1} + W_x \\cdot x)\n",
    "$$\n",
    "\n",
    "We can use tanh or Relu as the activate function $f$.\n",
    "\n",
    "RNN is has its application in many fields. The output of RNN can vary according to its purpose:\n",
    "\n",
    "<img src=\"images/types.PNG\" alt=\"types of RNN\" style=\"zoom:25%;margin-left:auto;margin-right:auto\">"
   ]
  },
  {
   "cell_type": "markdown",
   "id": "4b838275-9dda-4603-ba15-0949d08d0ae5",
   "metadata": {},
   "source": [
    "## Example: name classification using RNN with pytorch\n",
    "\n",
    "Now let's finish the exercise from [pytorch tutorial](https://pytorch.org/tutorials/intermediate/char_rnn_classification_tutorial.html).\n",
    "\n",
    "In the data directory of lab material, we have a few txt files, each containing people's name from different coutries, one for each line. Out task is to train an RNN classifier: given a name, tell us which country this name belong to.\n",
    "\n",
    "First of all is the data preprocessing:"
   ]
  },
  {
   "cell_type": "code",
   "execution_count": 1,
   "id": "d9b9594b-53d7-4187-aa84-44d9761d8440",
   "metadata": {},
   "outputs": [
    {
     "name": "stdout",
     "output_type": "stream",
     "text": [
      "all_letters:  abcdefghijklmnopqrstuvwxyzABCDEFGHIJKLMNOPQRSTUVWXYZ .,;'\n",
      "n_letters:  57\n",
      "Ślusàrski ->  Slusarski\n"
     ]
    }
   ],
   "source": [
    "import unicodedata\n",
    "import string\n",
    "\n",
    "# characters to deal with\n",
    "\n",
    "all_letters = string.ascii_letters + \" .,;'\"\n",
    "n_letters = len(all_letters)\n",
    "\n",
    "print('all_letters: ', all_letters)\n",
    "print('n_letters: ', n_letters)\n",
    "\n",
    "# Turn a Unicode string to plain ASCII, thanks to https://stackoverflow.com/a/518232/2809427\n",
    "def unicodeToAscii(s):\n",
    "    return ''.join(\n",
    "        c for c in unicodedata.normalize('NFD', s)\n",
    "        if unicodedata.category(c) != 'Mn'\n",
    "        and c in all_letters\n",
    "    )\n",
    "\n",
    "print('Ślusàrski -> ', unicodeToAscii('Ślusàrski'))"
   ]
  },
  {
   "cell_type": "code",
   "execution_count": 2,
   "id": "2bdb8c71-485e-4b4d-adf5-ef5bd2167874",
   "metadata": {},
   "outputs": [
    {
     "name": "stdout",
     "output_type": "stream",
     "text": [
      "['English', 'French', 'German', 'Greek', 'Portuguese', 'Spanish']\n",
      "['Abbas', 'Abbey', 'Abbott', 'Abdi', 'Abel']\n"
     ]
    }
   ],
   "source": [
    "from io import open\n",
    "import glob\n",
    "import os\n",
    "\n",
    "# Read all names and store as dictionary\n",
    "\n",
    "category_lines = {}\n",
    "all_categories = []\n",
    "\n",
    "# Read a file and split into lines\n",
    "def readLines(filename):\n",
    "    lines = open(filename, encoding='utf-8').read().strip().split('\\n')\n",
    "    return [unicodeToAscii(line) for line in lines]\n",
    "\n",
    "for filename in glob.glob('data/*.txt'):\n",
    "    category = os.path.splitext(os.path.basename(filename))[0]\n",
    "    all_categories.append(category)\n",
    "    lines = readLines(filename)\n",
    "    category_lines[category] = lines\n",
    "\n",
    "n_categories = len(all_categories)\n",
    "\n",
    "print(all_categories)\n",
    "print(category_lines['English'][:5])"
   ]
  },
  {
   "cell_type": "code",
   "execution_count": 3,
   "id": "f8ca674e-70b0-414e-b9fd-efb7885b3523",
   "metadata": {},
   "outputs": [
    {
     "name": "stdout",
     "output_type": "stream",
     "text": [
      "tensor([[0., 0., 0., 0., 0., 0., 0., 0., 0., 0., 0., 0., 0., 0., 0., 0., 0., 0.,\n",
      "         0., 0., 0., 0., 0., 0., 0., 0., 0., 0., 0., 0., 0., 0., 0., 0., 0., 1.,\n",
      "         0., 0., 0., 0., 0., 0., 0., 0., 0., 0., 0., 0., 0., 0., 0., 0., 0., 0.,\n",
      "         0., 0., 0.]])\n",
      "torch.Size([5, 1, 57])\n"
     ]
    }
   ],
   "source": [
    "import torch\n",
    "\n",
    "# turn names to tensor\n",
    "\n",
    "device = (\n",
    "    \"cuda\"\n",
    "    if torch.cuda.is_available()\n",
    "    else \"mps\"\n",
    "    if torch.backends.mps.is_available()\n",
    "    else \"cpu\"\n",
    ")\n",
    "\n",
    "# Find letter index from all_letters, e.g. \"a\" = 0\n",
    "def letterToIndex(letter):\n",
    "    return all_letters.find(letter)\n",
    "\n",
    "# Just for demonstration, turn a letter into a <1 x n_letters> Tensor\n",
    "def letterToTensor(letter):\n",
    "    tensor = torch.zeros(1, n_letters, device=device)\n",
    "    tensor[0][letterToIndex(letter)] = 1\n",
    "    return tensor\n",
    "\n",
    "# Turn a line into a <line_length x 1 x n_letters>,\n",
    "# or an array of one-hot letter vectors\n",
    "def lineToTensor(line):\n",
    "    tensor = torch.zeros(len(line), 1, n_letters, device=device)\n",
    "    for li, letter in enumerate(line):\n",
    "        tensor[li][0][letterToIndex(letter)] = 1\n",
    "    return tensor\n",
    "\n",
    "print(letterToTensor('J'))\n",
    "\n",
    "print(lineToTensor('Jones').size())"
   ]
  },
  {
   "cell_type": "code",
   "execution_count": 4,
   "id": "b0f40c41-4352-4c2e-b645-93e47fb50aee",
   "metadata": {},
   "outputs": [],
   "source": [
    "from torch import nn\n",
    "\n",
    "# instead of building your own RNN like in the pytorch tutorial, let's use the RNN class\n",
    "\n",
    "class NameRNN(nn.Module):\n",
    "    def __init__(self, input_size, hidden_size, output_size):\n",
    "        super(NameRNN, self).__init__()\n",
    "\n",
    "        self.hidden_size = hidden_size\n",
    "\n",
    "        self.rnn = nn.RNN(input_size, hidden_size)\n",
    "        self.linear = nn.Linear(hidden_size, output_size)\n",
    "        self.softmax = nn.LogSoftmax(dim=1)\n",
    "\n",
    "    def forward(self, input, hidden):\n",
    "        output, hidden = self.rnn(input, hidden)\n",
    "        output = self.linear(hidden)\n",
    "        output = self.softmax(output)\n",
    "        return output, hidden\n",
    "\n",
    "    def initHidden(self, device):\n",
    "        return torch.zeros(1, self.hidden_size, device=device)\n",
    "\n",
    "n_hidden = 128\n",
    "name_rnn = NameRNN(n_letters, n_hidden, n_categories).to(device)"
   ]
  },
  {
   "cell_type": "code",
   "execution_count": 5,
   "id": "f415422a-743c-4903-bff9-989df56ce30d",
   "metadata": {},
   "outputs": [
    {
     "name": "stdout",
     "output_type": "stream",
     "text": [
      "tensor([[-1.6857, -1.7593, -1.7963, -1.6909, -1.9738, -1.8752]],\n",
      "       grad_fn=<LogSoftmaxBackward0>)\n",
      "('English', 0)\n"
     ]
    }
   ],
   "source": [
    "# before training, run some inference\n",
    "\n",
    "input = lineToTensor('Albert')\n",
    "hidden = torch.zeros(1, n_hidden)\n",
    "\n",
    "output, next_hidden = name_rnn(input[0], hidden)\n",
    "print(output)\n",
    "\n",
    "def categoryFromOutput(output):\n",
    "    top_n, top_i = output.topk(1)\n",
    "    category_i = top_i[0].item()\n",
    "    return all_categories[category_i], category_i\n",
    "\n",
    "print(categoryFromOutput(output))"
   ]
  },
  {
   "cell_type": "code",
   "execution_count": 6,
   "id": "7e1def5c-634f-4541-98a0-f662f37fbd43",
   "metadata": {},
   "outputs": [
    {
     "name": "stdout",
     "output_type": "stream",
     "text": [
      "category = Spanish , line = Olmos , category_tensor = tensor([5])\n",
      "category = German , line = Giehl , category_tensor = tensor([2])\n",
      "category = German , line = Hauer , category_tensor = tensor([2])\n",
      "category = Greek , line = Paraskevopoulos , category_tensor = tensor([3])\n",
      "category = German , line = Havener , category_tensor = tensor([2])\n",
      "category = German , line = Waxweiler , category_tensor = tensor([2])\n",
      "category = German , line = Hoover , category_tensor = tensor([2])\n",
      "category = Spanish , line = Cruz , category_tensor = tensor([5])\n",
      "category = Spanish , line = Marti , category_tensor = tensor([5])\n",
      "category = Greek , line = Kourempes , category_tensor = tensor([3])\n"
     ]
    }
   ],
   "source": [
    "import random\n",
    "\n",
    "# randomly sample\n",
    "\n",
    "def randomChoice(l):\n",
    "    return l[random.randint(0, len(l) - 1)]\n",
    "\n",
    "def randomTrainingExample():\n",
    "    category = randomChoice(all_categories)\n",
    "    line = randomChoice(category_lines[category])\n",
    "    category_tensor = torch.tensor([all_categories.index(category)], dtype=torch.long)\n",
    "    line_tensor = lineToTensor(line)\n",
    "    return category, line, category_tensor, line_tensor\n",
    "\n",
    "for i in range(10):\n",
    "    category, line, category_tensor, line_tensor = randomTrainingExample()\n",
    "    print('category =', category, ', line =', line, ', category_tensor =', category_tensor)"
   ]
  },
  {
   "cell_type": "code",
   "execution_count": 7,
   "id": "ef3d7cbf-873d-4783-9386-115dd5694185",
   "metadata": {},
   "outputs": [],
   "source": [
    "# define training process\n",
    "\n",
    "criterion = nn.NLLLoss()\n",
    "learning_rate = 0.005\n",
    "optimizer = torch.optim.SGD(name_rnn.parameters(),lr=learning_rate)\n",
    "\n",
    "def train(name_rnn, category_tensor, line_tensor):\n",
    "    hidden = name_rnn.initHidden(device)\n",
    "\n",
    "    name_rnn.zero_grad()\n",
    "\n",
    "    for i in range(line_tensor.size()[0]):\n",
    "        output, hidden = name_rnn(line_tensor[i], hidden)\n",
    "\n",
    "    loss = criterion(output, category_tensor)\n",
    "    loss.backward()\n",
    "\n",
    "    optimizer.step()\n",
    "\n",
    "    return output, loss.item()"
   ]
  },
  {
   "cell_type": "code",
   "execution_count": 8,
   "id": "75774f92-ce41-4556-ad5a-507e7a705597",
   "metadata": {},
   "outputs": [
    {
     "name": "stdout",
     "output_type": "stream",
     "text": [
      "5000 7% (0m 13s) 0.1763 Giannakos / Greek ✓\n",
      "10000 14% (0m 26s) 2.5718 Eames / Portuguese ✗ (English)\n",
      "15000 21% (0m 39s) 1.1864 Beauchene / German ✗ (French)\n",
      "20000 28% (0m 53s) 1.3345 Krauss / Greek ✗ (German)\n",
      "25000 35% (1m 6s) 0.5487 Steinmann / German ✓\n",
      "30000 42% (1m 19s) 1.9492 Sastre / French ✗ (Spanish)\n",
      "35000 50% (1m 33s) 0.2027 Holzer / German ✓\n",
      "40000 57% (1m 46s) 2.9371 Richard / French ✗ (German)\n",
      "45000 64% (1m 59s) 0.2196 Moreau / French ✓\n",
      "50000 71% (2m 13s) 0.1618 Gardinier / French ✓\n",
      "55000 78% (2m 26s) 0.1545 Rodrigues / Portuguese ✓\n",
      "60000 85% (2m 40s) 1.1160 Archer / German ✗ (English)\n",
      "65000 92% (2m 53s) 0.0372 Viola / Spanish ✓\n",
      "70000 100% (3m 6s) 0.0054 Dritsas / Greek ✓\n"
     ]
    }
   ],
   "source": [
    "import time\n",
    "import math\n",
    "\n",
    "n_iters = 70000\n",
    "print_every = 5000\n",
    "\n",
    "# Keep track of losses for plotting\n",
    "current_loss = 0\n",
    "all_losses = []\n",
    "\n",
    "def timeSince(since):\n",
    "    now = time.time()\n",
    "    s = now - since\n",
    "    m = math.floor(s / 60)\n",
    "    s -= m * 60\n",
    "    return '%dm %ds' % (m, s)\n",
    "\n",
    "start = time.time()\n",
    "\n",
    "for iter in range(1, n_iters + 1):\n",
    "    category, line, category_tensor, line_tensor = randomTrainingExample()\n",
    "    output, loss = train(name_rnn, category_tensor, line_tensor)\n",
    "    current_loss += loss\n",
    "\n",
    "    # Print ``iter`` number, loss, name and guess\n",
    "    if iter % print_every == 0:\n",
    "        guess, guess_i = categoryFromOutput(output)\n",
    "        correct = '✓' if guess == category else '✗ (%s)' % category\n",
    "        print('%d %d%% (%s) %.4f %s / %s %s' % (iter, iter / n_iters * 100, timeSince(start), loss, line, guess, correct))\n"
   ]
  },
  {
   "cell_type": "code",
   "execution_count": 9,
   "id": "a0325c6e-f9a8-4269-a5c6-b1d332dc57f2",
   "metadata": {},
   "outputs": [
    {
     "data": {
      "image/png": "[encoded data removed]",
      "text/plain": [
       "<Figure size 640x480 with 2 Axes>"
      ]
     },
     "metadata": {},
     "output_type": "display_data"
    }
   ],
   "source": [
    "import matplotlib.pyplot as plt\n",
    "import matplotlib.ticker as ticker\n",
    "\n",
    "# Evaluation\n",
    "\n",
    "# Keep track of correct guesses in a confusion matrix\n",
    "confusion = torch.zeros(n_categories, n_categories)\n",
    "n_confusion = 1000\n",
    "\n",
    "# Just return an output given a line\n",
    "def evaluate(line_tensor):\n",
    "    hidden = name_rnn.initHidden(device)\n",
    "\n",
    "    for i in range(line_tensor.size()[0]):\n",
    "        output, hidden = name_rnn(line_tensor[i], hidden)\n",
    "\n",
    "    return output\n",
    "\n",
    "# Go through a bunch of examples and record which are correctly guessed\n",
    "for i in range(n_confusion):\n",
    "    category, line, category_tensor, line_tensor = randomTrainingExample()\n",
    "    output = evaluate(line_tensor)\n",
    "    guess, guess_i = categoryFromOutput(output)\n",
    "    category_i = all_categories.index(category)\n",
    "    confusion[category_i][guess_i] += 1\n",
    "\n",
    "# Normalize by dividing every row by its sum\n",
    "for i in range(n_categories):\n",
    "    confusion[i] = confusion[i] / confusion[i].sum()\n",
    "\n",
    "# Set up plot\n",
    "fig = plt.figure()\n",
    "ax = fig.add_subplot(111)\n",
    "cax = ax.matshow(confusion.numpy())\n",
    "fig.colorbar(cax)\n",
    "\n",
    "# Set up axes\n",
    "ax.set_xticks(range(n_categories))\n",
    "ax.set_xticklabels(all_categories, rotation=90)\n",
    "ax.set_yticks(range(n_categories))\n",
    "ax.set_yticklabels(all_categories)\n",
    "\n",
    "# Force label at every tick\n",
    "ax.xaxis.set_major_locator(ticker.MultipleLocator(1))\n",
    "ax.yaxis.set_major_locator(ticker.MultipleLocator(1))\n",
    "\n",
    "# sphinx_gallery_thumbnail_number = 2\n",
    "plt.show()"
   ]
  },
  {
   "cell_type": "code",
   "execution_count": null,
   "id": "d77c38dc-bec0-4710-8c6d-20676bde033b",
   "metadata": {},
   "outputs": [],
   "source": []
  }
 ],
 "metadata": {
  "kernelspec": {
   "display_name": "Python 3 (ipykernel)",
   "language": "python",
   "name": "python3"
  },
  "language_info": {
   "codemirror_mode": {
    "name": "ipython",
    "version": 3
   },
   "file_extension": ".py",
   "mimetype": "text/x-python",
   "name": "python",
   "nbconvert_exporter": "python",
   "pygments_lexer": "ipython3",
   "version": "3.10.5"
  }
 },
 "nbformat": 4,
 "nbformat_minor": 5
}
