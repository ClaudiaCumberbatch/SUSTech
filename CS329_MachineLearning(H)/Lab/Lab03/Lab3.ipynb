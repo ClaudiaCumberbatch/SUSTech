{
 "cells": [
  {
   "cell_type": "markdown",
   "id": "559e98b8-429e-4293-a354-836ba453125e",
   "metadata": {},
   "source": [
    "\n",
    "\n",
    "\n",
    "\n",
    "\n",
    "\n",
    "\n",
    "### Instruction\n",
    "Spam filtering is a beginner’s example of the document classification task which involves classifying an email as spam or non-spam (a.k.a. ham) mail. An email dataset will be provided. We will use the following steps to build this application:\n",
    "1) Preparing the text data\n",
    "2) Creating a word dictionary\n",
    "3) Feature extraction\n",
    "4) Training the classifier\n",
    "5) Checking the results on the test set"
   ]
  },
  {
   "cell_type": "markdown",
   "id": "2f818bbc-ff4e-4e14-9e91-80aa1f1b681e",
   "metadata": {},
   "source": [
    "### Preparing the text data\n",
    "The data-set used here, is split into a training set and a test set containing 702 mails and 260 mails respectively, divided equally between spam and ham mails. You will easily recognize spam mails as it contains `spmsg` in its filename.\n",
    "\n",
    "In any text mining problem, text cleaning is the first step where we remove those words from the document which may not contribute to the information we want to extract. Emails may contain a lot of undesirable characters like punctuation marks, stop words, digits, etc which may not be helpful in detecting the spam email. The emails in Ling-spam corpus have been already preprocessed in the following ways:\n",
    "\n",
    "1. **Removal of stop words** – Stop words like “and”, “the”, “of”, etc are very common in all English sentences and are not very meaningful in deciding spam or legitimate status, so these words have been removed from the emails.\n",
    "\n",
    "2. **Lemmatization** – It is the process of grouping together the different inflected forms of a word so they can be analyzed as a single item. For example, “include”, “includes,” and “included” would all be represented as “include”. The context of the sentence is also preserved in lemmatization as opposed to stemming (another buzz word in text mining which does not consider meaning of the sentence)\n",
    "\n",
    "We still need to remove the non-words like punctuation marks or special characters from the mail documents. There are several ways to do it. Here, we will remove such words after creating a dictionary, which is a very convenient method to do so since when you have a dictionary; you need to remove every such word only once."
   ]
  },
  {
   "cell_type": "markdown",
   "id": "80603548-feb4-4b5d-aea6-f1e87b38f5ea",
   "metadata": {},
   "source": [
    "### Creating word dictionary\n",
    "We will only perform text analytics on the content to detect the spam mails. As the first step, we need to create a dictionary of words and their frequency. For this task, a training set of 700 mails is utilized. This python function will create the dictionary for you.\n",
    "```Python\n",
    "def make_Dictionary(train_dir):\n",
    "    emails = [os.path.join(train_dir,f) for f in os.listdir (train_dir)]\n",
    "    all_words = []\n",
    "    for mail in emails:\n",
    "        with open (mail) as m:\n",
    "            for i,line in enumerate (m) :\n",
    "                if i == 2:\n",
    "                    words = line.split()\n",
    "                    all_words += words\n",
    "    dictionary = Counter(all_words)\n",
    "    # Paste code for non-word removal here\n",
    "    \n",
    "    return dictionary\n",
    "```"
   ]
  },
  {
   "cell_type": "markdown",
   "id": "64c753f2-4b1f-41d8-9e57-554731d42be2",
   "metadata": {},
   "source": [
    "Once the dictionary is created we can add just a few lines of code written below to the above function to remove non-words. Absurd single characters in the dictionary which are irrelevant here are also removed. Do not forget to insert the below code in the function of make_Dictionary:\n",
    "```python\n",
    "list_to_remove = list(dictionary.keys())\n",
    "for item in list_to_remove:\n",
    "    if item.isalpha() == False:\n",
    "        del dictionary[item]\n",
    "    elif len(item) == 1:\n",
    "        del dictionary[item]\n",
    "dictionary = dictionary.most_common(3000)\n",
    "```"
   ]
  },
  {
   "cell_type": "code",
   "execution_count": 3,
   "id": "fc41ebff-aad3-4d08-8f6a-4e4ed73f278a",
   "metadata": {},
   "outputs": [],
   "source": [
    "import os\n",
    "import numpy as np\n",
    "from collections import Counter\n",
    "def make_Dictionary(train_dir):\n",
    "    emails = [os.path.join(train_dir,f) for f in os.listdir (train_dir)]\n",
    "    all_words = []\n",
    "    for mail in emails:\n",
    "        with open (mail) as m:\n",
    "            for i,line in enumerate (m) :\n",
    "                if i == 2:\n",
    "                    words = line.split()\n",
    "                    all_words += words\n",
    "    dictionary = Counter(all_words)\n",
    "    list_to_remove = list(dictionary.keys())\n",
    "    for item in list_to_remove:\n",
    "        if item.isalpha() == False:\n",
    "            del dictionary[item]\n",
    "        elif len(item) == 1:\n",
    "            del dictionary[item]\n",
    "    dictionary = dictionary.most_common(3000)\n",
    "    # Paste code for non-word removal here\n",
    "    return dictionary"
   ]
  },
  {
   "cell_type": "markdown",
   "id": "e32b7058-baff-464b-9a19-4dd6b8605bdc",
   "metadata": {},
   "source": [
    "The dictionary can be seen by the command “print dictionary”. You may find some absurd word counts to be high but don’t worry, it’s just a dictionary and you always have a chance to improve it later. If you use the provided dataset, make sure your dictionary has some of the entries given below as most frequent words. Here 3000 most frequently used words are chosen in the dictionary."
   ]
  },
  {
   "cell_type": "code",
   "execution_count": 4,
   "id": "0dc9f0e8-72fb-4d94-9067-5ffbb8e1ca5a",
   "metadata": {
    "tags": []
   },
   "outputs": [],
   "source": [
    "# To show the most frequent words in train-mails\n",
    "dictionary = make_Dictionary('ling-spam/train-mails')"
   ]
  },
  {
   "cell_type": "markdown",
   "id": "c59cfe5b-2a63-43b0-b0de-85069b89e280",
   "metadata": {},
   "source": [
    "### Feature Extraction Process\n",
    "Once the dictionary is ready, we can extract word count vector (our feature here) of 3000 dimensions for each email of the training set. Each **word count vector** contains the frequency of 3000 words in the training file. Of course you might have guessed by now that most of them will be zero. Let us take an example. Suppose we have 500 words in our dictionary. Each word count vector contains the frequency of 500 dictionary words in the training file. Suppose the text in the training file is “Get the work done, work done”, then it will be encoded as $$[0,0,0,0,0,…….0,0,2,0,0,0,……,0,0,1,0,0,…0,0,1,0,0,……2,0,0,0,0,0]$$ Here, all the word counts are placed at the 296th, 359th, 415th, 495th elements of the word count vector in the length of 500 and the rest are zero."
   ]
  },
  {
   "cell_type": "markdown",
   "id": "6e183714-de20-497b-ac13-975ba7aff07d",
   "metadata": {},
   "source": [
    "The below python code will generate a feature vector matrix whose rows denote 700 files of the training set and columns denote 3000 words of the dictionary. The value at index ${ij}$ will be the number of occurrences of the $j^{th}$ word of the dictionary in the $i^{th}$ file"
   ]
  },
  {
   "cell_type": "code",
   "execution_count": 5,
   "id": "5a60efca-9dda-4839-8c89-8dda3756c753",
   "metadata": {},
   "outputs": [],
   "source": [
    "def extract_features_and_label(mail_dir):\n",
    "    files = [os.path.join(mail_dir,fi) for fi in os.listdir(mail_dir)]\n",
    "    features_matrix = np.zeros((len(files),3000))\n",
    "    label_matrix = np.zeros((len(files),1))\n",
    "    docID = 0\n",
    "    _i = 0\n",
    "    print(len(files))\n",
    "    for fil in files:\n",
    "        if \"spmsg\" in fil:\n",
    "            label_matrix[docID, 0] = 1\n",
    "        _i+=1\n",
    "        with open(fil) as fi:\n",
    "            for i,line in enumerate(fi):\n",
    "                if i == 2:\n",
    "                    words = line.split()\n",
    "                    for word in words:\n",
    "                        wordID = 0\n",
    "                        for i,d in enumerate(dictionary):\n",
    "                            if d[0] == word:\n",
    "                                wordID = i\n",
    "                                features_matrix[docID,wordID]+=1\n",
    "            docID = docID + 1\n",
    "        print('\\r','done {} files'.format(_i),flush=True,end='')\n",
    "    return features_matrix, label_matrix"
   ]
  },
  {
   "cell_type": "code",
   "execution_count": 6,
   "id": "08daabdd-cafa-4c53-b6e1-f89d980d1328",
   "metadata": {},
   "outputs": [
    {
     "name": "stdout",
     "output_type": "stream",
     "text": [
      "702\n",
      " done 702 files"
     ]
    }
   ],
   "source": [
    "X_train, y_train = extract_features_and_label(\"ling-spam/train-mails\")"
   ]
  },
  {
   "cell_type": "code",
   "execution_count": 7,
   "id": "f6cb4390",
   "metadata": {},
   "outputs": [
    {
     "name": "stdout",
     "output_type": "stream",
     "text": [
      "260\n",
      " done 1 files"
     ]
    },
    {
     "name": "stdout",
     "output_type": "stream",
     "text": [
      " done 260 files"
     ]
    }
   ],
   "source": [
    "X_test, y_test = extract_features_and_label(\"ling-spam/test-mails\")"
   ]
  },
  {
   "cell_type": "markdown",
   "id": "fec33d1e-a61a-46c0-adab-487d3cea2415",
   "metadata": {},
   "source": [
    "### Training the Classifiers\n",
    "Here you should write your Naïve Bayes classifiers after fully understanding its principle."
   ]
  },
  {
   "cell_type": "code",
   "execution_count": 18,
   "id": "1071ebcb-8845-4678-84b2-4d173af1b8f7",
   "metadata": {},
   "outputs": [],
   "source": [
    "########### Write Your Code Here ###########\n",
    "class NaiveBayes():\n",
    "\n",
    "    def fit(self, X, y):\n",
    "        y = y.astype(int)\n",
    "        self.X = X\n",
    "        self.y = y\n",
    "        self.classes = np.unique(y)\n",
    "        self.parameters = {}\n",
    "        for i, c in enumerate(self.classes):\n",
    "            # Calculate the mean, variance, prior probability of each class\n",
    "            index = np.where(y==c)[0]\n",
    "            X_Index_c = X[index] \n",
    "            X_index_c_mean = np.mean(X_Index_c, axis=0, keepdims=True)\n",
    "            X_index_c_var = np.var(X_Index_c, axis=0, keepdims=True)\n",
    "            X_index_c_mean[np.where(X_index_c_mean==0)] += 1e-10\n",
    "            X_index_c_var[np.where(X_index_c_var==0)] += 1e-10\n",
    "            parameters = {\"mean\": X_index_c_mean, \"var\": X_index_c_var, \"prior\": X_Index_c.shape[0] / X.shape[0]}\n",
    "            self.parameters[\"class\" + str(c)] = parameters\n",
    "    \n",
    "    def predict(self, X):\n",
    "            # return class with highest probability\n",
    "            # Complete code for naive Bayes algorithm\n",
    "            def logGaussP(mean, var, x):\n",
    "                return -np.square(x-mean) / (2 * var) - np.log(np.sqrt(2*np.pi*var))\n",
    "\n",
    "            prediction = np.zeros((X.shape[0]))\n",
    "            for j, text in enumerate(X):\n",
    "                prob = np.zeros(self.classes.shape)\n",
    "                for i, c in enumerate(self.classes):   \n",
    "                    m = self.parameters[\"class\" + str(c)][\"mean\"][0]\n",
    "                    v = self.parameters[\"class\" + str(c)][\"var\"][0]\n",
    "                    p = self.parameters[\"class\" + str(c)][\"prior\"]\n",
    "                    prob[i] = np.sum(logGaussP(m, v, text)) + np.log(p)   # calculate cumulative product of gaussian probabilities\n",
    "                prediction[j] = self.classes[np.argmax(prob)]\n",
    "\n",
    "            return prediction\n",
    "    '''\n",
    "    \n",
    "    def predict(self, X):\n",
    "        # return class with highest probability\n",
    "        predictions = []\n",
    "        \n",
    "        # Complete code for naive Bayes algorithm\n",
    "        for x in X:\n",
    "            posteriors = []\n",
    "\n",
    "            # Calculate posterior probability for each class\n",
    "            for c in self.classes:\n",
    "                parameters = self.parameters[\"class\" + str(c)]\n",
    "                prior = parameters[\"prior\"]\n",
    "                mean = parameters[\"mean\"]\n",
    "                var = parameters[\"var\"]\n",
    "                # print(\"bad mean:\", mean[mean<=0])\n",
    "                # print(\"bad var:\", var[var<=0])\n",
    "\n",
    "                # Calculate the Gaussian likelihood\n",
    "                likelihood = np.prod(1.0 / (np.sqrt(2 * np.pi * var)) * np.exp(-(x - mean) ** 2 / (2 * var)), axis=1)\n",
    "                # print(\"likelihood =\", likelihood)\n",
    "\n",
    "                # Calculate the posterior probability\n",
    "                posterior = prior * likelihood\n",
    "                posteriors.append(posterior)\n",
    "\n",
    "            # Choose the class with the highest posterior probability as the prediction\n",
    "            prediction = self.classes[np.argmax(posteriors)]\n",
    "            predictions.append(prediction)\n",
    "            # print(\"pridiction is\", predictions)\n",
    "            # break\n",
    "\n",
    "        return np.array(predictions)\n",
    "    '''\n"
   ]
  },
  {
   "cell_type": "code",
   "execution_count": 19,
   "id": "841773fa",
   "metadata": {},
   "outputs": [
    {
     "name": "stdout",
     "output_type": "stream",
     "text": [
      "[[129   1]\n",
      " [  9 121]]\n"
     ]
    }
   ],
   "source": [
    "from sklearn.metrics import confusion_matrix\n",
    "\n",
    "#Call the Naive Bayes algorithm, which we wrote ourselves\n",
    "model = NaiveBayes()\n",
    "model.fit(X_train,y_train) \n",
    "result = model.predict(X_test)\n",
    "print (confusion_matrix(y_test, result))"
   ]
  },
  {
   "cell_type": "markdown",
   "id": "3dfe78ea-e607-4f3c-8b44-fe0fdd1187cc",
   "metadata": {},
   "source": [
    "### Checking Performance\n",
    "The test set contains 130 spam emails and 130 non-spam emails. Please compute accuracy, recall, F-1 score to evaluate the performance of your spam filter."
   ]
  },
  {
   "cell_type": "code",
   "execution_count": 35,
   "id": "adffeaf5-1841-4207-8100-a1ef628b28f3",
   "metadata": {},
   "outputs": [
    {
     "name": "stdout",
     "output_type": "stream",
     "text": [
      "0.9615384615384616\n",
      "0.9307692307692308\n",
      "0.9603174603174605\n"
     ]
    }
   ],
   "source": [
    "########### Write Your Code Here ###########\n",
    "from sklearn.metrics import accuracy_score, recall_score, f1_score\n",
    "print(accuracy_score(y_test, result))\n",
    "print(recall_score(y_test, result))\n",
    "print(f1_score(y_test, result))\n",
    "############################################"
   ]
  },
  {
   "cell_type": "markdown",
   "id": "8dccf609-0f9c-439b-b9ca-62e78796a7a7",
   "metadata": {},
   "source": [
    "### Questions\n",
    "1. Describe another real-world application where the naïve Bayes method can be applied\n",
    "2. What are the strengths of the naïve Bayes method; when does it perform well?\n",
    "3. What are the weaknesses of the naïve Bayes method; when does it perform poorly?\n",
    "4. What makes the naïve Bayes method a good candidate for the classification problem, if you have enough knowledge about the data?"
   ]
  },
  {
   "cell_type": "code",
   "execution_count": 2,
   "id": "f21e532b-560c-4411-9f21-e793b00b1a4d",
   "metadata": {},
   "outputs": [
    {
     "name": "stdout",
     "output_type": "stream",
     "text": [
      "Row Products: [  6 120]\n",
      "Column Products: [ 4 10 18]\n"
     ]
    }
   ],
   "source": [
    "import numpy as np\n",
    "# 创建一个二维数组\n",
    "arr = np.array([[1, 2, 3], [4, 5, 6]])\n",
    "\n",
    "# 计算每行的乘积\n",
    "row_products = np.prod(arr, axis=1)\n",
    "\n",
    "# 计算每列的乘积\n",
    "col_products = np.prod(arr, axis=0)\n",
    "\n",
    "# 打印结果\n",
    "print(\"Row Products:\", row_products)\n",
    "print(\"Column Products:\", col_products)"
   ]
  },
  {
   "cell_type": "code",
   "execution_count": null,
   "id": "c74ebbca",
   "metadata": {},
   "outputs": [],
   "source": []
  }
 ],
 "metadata": {
  "kernelspec": {
   "display_name": "Python 3.9.13 64-bit",
   "language": "python",
   "name": "python3"
  },
  "language_info": {
   "codemirror_mode": {
    "name": "ipython",
    "version": 3
   },
   "file_extension": ".py",
   "mimetype": "text/x-python",
   "name": "python",
   "nbconvert_exporter": "python",
   "pygments_lexer": "ipython3",
   "version": "3.8.0"
  },
  "vscode": {
   "interpreter": {
    "hash": "1eb71e714c2a1bbfc91d3a1ed02399b846367c62fca82a5b3a9325d7b60709de"
   }
  }
 },
 "nbformat": 4,
 "nbformat_minor": 5
}
