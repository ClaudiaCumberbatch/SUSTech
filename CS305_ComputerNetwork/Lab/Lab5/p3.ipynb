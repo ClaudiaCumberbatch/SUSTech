{
 "cells": [
  {
   "cell_type": "code",
   "execution_count": 1,
   "metadata": {},
   "outputs": [],
   "source": [
    "import dns.resolver"
   ]
  },
  {
   "cell_type": "code",
   "execution_count": 2,
   "metadata": {},
   "outputs": [
    {
     "name": "stderr",
     "output_type": "stream",
     "text": [
      "/var/folders/3w/qtg04t7j5798r10qlyrwnl2m0000gn/T/ipykernel_63257/4090204597.py:1: DeprecationWarning: please use dns.resolver.resolve() instead\n",
      "  q1 = dns.resolver.query(\"\")\n"
     ]
    }
   ],
   "source": [
    "q1 = dns.resolver.query(\"\")"
   ]
  },
  {
   "cell_type": "code",
   "execution_count": 3,
   "metadata": {},
   "outputs": [
    {
     "name": "stdout",
     "output_type": "stream",
     "text": [
      "i =  sustech.edu.cn. 3600 IN A 172.18.1.3\n",
      "j =  172.18.1.3\n"
     ]
    }
   ],
   "source": [
    "for i in q1.response.answer:\n",
    "    print(\"i = \", i)\n",
    "    for j in i:\n",
    "        print(\"j = \", j)"
   ]
  },
  {
   "cell_type": "code",
   "execution_count": 7,
   "metadata": {},
   "outputs": [
    {
     "name": "stdout",
     "output_type": "stream",
     "text": [
      "i =  sustech.edu.cn. 3600 IN NS ns1.sustech.edu.cn.\n",
      "sustech.edu.cn. 3600 IN NS ns2.sustech.edu.cn.\n",
      "j =  ns1.sustech.edu.cn.\n",
      "j =  ns2.sustech.edu.cn.\n"
     ]
    },
    {
     "name": "stderr",
     "output_type": "stream",
     "text": [
      "/var/folders/3w/qtg04t7j5798r10qlyrwnl2m0000gn/T/ipykernel_63257/4292551179.py:1: DeprecationWarning: please use dns.resolver.resolve() instead\n",
      "  q2 = dns.resolver.query(\"\", 'ns')\n"
     ]
    }
   ],
   "source": [
    "q2 = dns.resolver.query(\"\", 'ns')\n",
    "for i in q2.response.answer:\n",
    "    print(\"i = \", i)\n",
    "    for j in i:\n",
    "        print(\"j = \", j)"
   ]
  },
  {
   "cell_type": "code",
   "execution_count": 9,
   "metadata": {},
   "outputs": [
    {
     "name": "stdout",
     "output_type": "stream",
     "text": [
      "i =  ns1.sustech.edu.cn. 3600 IN A 172.18.1.92\n",
      "j =  172.18.1.92\n"
     ]
    },
    {
     "name": "stderr",
     "output_type": "stream",
     "text": [
      "/var/folders/3w/qtg04t7j5798r10qlyrwnl2m0000gn/T/ipykernel_63257/2912159816.py:1: DeprecationWarning: please use dns.resolver.resolve() instead\n",
      "  q2 = dns.resolver.query(\"ns1.sustech.edu.cn\")\n"
     ]
    }
   ],
   "source": [
    "q2 = dns.resolver.query(\"ns1.sustech.edu.cn\")\n",
    "for i in q2.response.answer:\n",
    "    print(\"i = \", i)\n",
    "    for j in i:\n",
    "        print(\"j = \", j)"
   ]
  },
  {
   "cell_type": "code",
   "execution_count": 2,
   "metadata": {},
   "outputs": [
    {
     "name": "stdout",
     "output_type": "stream",
     "text": [
      "i =  a.root-servers.net. 26455 IN A 198.41.0.4\n",
      "j =  198.41.0.4\n"
     ]
    },
    {
     "name": "stderr",
     "output_type": "stream",
     "text": [
      "/var/folders/3w/qtg04t7j5798r10qlyrwnl2m0000gn/T/ipykernel_73500/3763982429.py:1: DeprecationWarning: please use dns.resolver.resolve() instead\n",
      "  q2 = dns.resolver.query(\"a.root-servers.net\")\n"
     ]
    }
   ],
   "source": [
    "q2 = dns.resolver.query(\"a.root-servers.net\")\n",
    "for i in q2.response.answer:\n",
    "    print(\"i = \", i)\n",
    "    for j in i:\n",
    "        print(\"j = \", j)"
   ]
  },
  {
   "cell_type": "code",
   "execution_count": 3,
   "metadata": {},
   "outputs": [
    {
     "name": "stderr",
     "output_type": "stream",
     "text": [
      "/var/folders/3w/qtg04t7j5798r10qlyrwnl2m0000gn/T/ipykernel_73500/1785367603.py:1: DeprecationWarning: please use dns.resolver.resolve() instead\n",
      "  q2 = dns.resolver.query(\"a.root-servers.net\", \"ns\")\n"
     ]
    },
    {
     "ename": "NoAnswer",
     "evalue": "The DNS response does not contain an answer to the question: a.root-servers.net. IN NS",
     "output_type": "error",
     "traceback": [
      "\u001b[0;31m---------------------------------------------------------------------------\u001b[0m",
      "\u001b[0;31mNoAnswer\u001b[0m                                  Traceback (most recent call last)",
      "\u001b[1;32m/Users/zhousicheng/Desktop/计算机网络/Lab/Lab5/p3.ipynb 单元格 7\u001b[0m line \u001b[0;36m1\n\u001b[0;32m----> <a href='vscode-notebook-cell:/Users/zhousicheng/Desktop/%E8%AE%A1%E7%AE%97%E6%9C%BA%E7%BD%91%E7%BB%9C/Lab/Lab5/p3.ipynb#W6sZmlsZQ%3D%3D?line=0'>1</a>\u001b[0m q2 \u001b[39m=\u001b[39m dns\u001b[39m.\u001b[39;49mresolver\u001b[39m.\u001b[39;49mquery(\u001b[39m\"\u001b[39;49m\u001b[39ma.root-servers.net\u001b[39;49m\u001b[39m\"\u001b[39;49m, \u001b[39m\"\u001b[39;49m\u001b[39mns\u001b[39;49m\u001b[39m\"\u001b[39;49m)\n\u001b[1;32m      <a href='vscode-notebook-cell:/Users/zhousicheng/Desktop/%E8%AE%A1%E7%AE%97%E6%9C%BA%E7%BD%91%E7%BB%9C/Lab/Lab5/p3.ipynb#W6sZmlsZQ%3D%3D?line=1'>2</a>\u001b[0m \u001b[39mfor\u001b[39;00m i \u001b[39min\u001b[39;00m q2\u001b[39m.\u001b[39mresponse\u001b[39m.\u001b[39manswer:\n\u001b[1;32m      <a href='vscode-notebook-cell:/Users/zhousicheng/Desktop/%E8%AE%A1%E7%AE%97%E6%9C%BA%E7%BD%91%E7%BB%9C/Lab/Lab5/p3.ipynb#W6sZmlsZQ%3D%3D?line=2'>3</a>\u001b[0m     \u001b[39mprint\u001b[39m(\u001b[39m\"\u001b[39m\u001b[39mi = \u001b[39m\u001b[39m\"\u001b[39m, i)\n",
      "File \u001b[0;32m~/opt/miniconda3/envs/ML_env/lib/python3.10/site-packages/dns/resolver.py:1598\u001b[0m, in \u001b[0;36mquery\u001b[0;34m(qname, rdtype, rdclass, tcp, source, raise_on_no_answer, source_port, lifetime)\u001b[0m\n\u001b[1;32m   1588\u001b[0m \u001b[39m\u001b[39m\u001b[39m\"\"\"Query nameservers to find the answer to the question.\u001b[39;00m\n\u001b[1;32m   1589\u001b[0m \n\u001b[1;32m   1590\u001b[0m \u001b[39mThis method calls resolve() with ``search=True``, and is\u001b[39;00m\n\u001b[0;32m   (...)\u001b[0m\n\u001b[1;32m   1593\u001b[0m \u001b[39mfurther details.\u001b[39;00m\n\u001b[1;32m   1594\u001b[0m \u001b[39m\"\"\"\u001b[39;00m\n\u001b[1;32m   1595\u001b[0m warnings\u001b[39m.\u001b[39mwarn(\n\u001b[1;32m   1596\u001b[0m     \u001b[39m\"\u001b[39m\u001b[39mplease use dns.resolver.resolve() instead\u001b[39m\u001b[39m\"\u001b[39m, \u001b[39mDeprecationWarning\u001b[39;00m, stacklevel\u001b[39m=\u001b[39m\u001b[39m2\u001b[39m\n\u001b[1;32m   1597\u001b[0m )\n\u001b[0;32m-> 1598\u001b[0m \u001b[39mreturn\u001b[39;00m resolve(\n\u001b[1;32m   1599\u001b[0m     qname,\n\u001b[1;32m   1600\u001b[0m     rdtype,\n\u001b[1;32m   1601\u001b[0m     rdclass,\n\u001b[1;32m   1602\u001b[0m     tcp,\n\u001b[1;32m   1603\u001b[0m     source,\n\u001b[1;32m   1604\u001b[0m     raise_on_no_answer,\n\u001b[1;32m   1605\u001b[0m     source_port,\n\u001b[1;32m   1606\u001b[0m     lifetime,\n\u001b[1;32m   1607\u001b[0m     \u001b[39mTrue\u001b[39;49;00m,\n\u001b[1;32m   1608\u001b[0m )\n",
      "File \u001b[0;32m~/opt/miniconda3/envs/ML_env/lib/python3.10/site-packages/dns/resolver.py:1565\u001b[0m, in \u001b[0;36mresolve\u001b[0;34m(qname, rdtype, rdclass, tcp, source, raise_on_no_answer, source_port, lifetime, search)\u001b[0m\n\u001b[1;32m   1545\u001b[0m \u001b[39mdef\u001b[39;00m \u001b[39mresolve\u001b[39m(\n\u001b[1;32m   1546\u001b[0m     qname: Union[dns\u001b[39m.\u001b[39mname\u001b[39m.\u001b[39mName, \u001b[39mstr\u001b[39m],\n\u001b[1;32m   1547\u001b[0m     rdtype: Union[dns\u001b[39m.\u001b[39mrdatatype\u001b[39m.\u001b[39mRdataType, \u001b[39mstr\u001b[39m] \u001b[39m=\u001b[39m dns\u001b[39m.\u001b[39mrdatatype\u001b[39m.\u001b[39mA,\n\u001b[0;32m   (...)\u001b[0m\n\u001b[1;32m   1554\u001b[0m     search: Optional[\u001b[39mbool\u001b[39m] \u001b[39m=\u001b[39m \u001b[39mNone\u001b[39;00m,\n\u001b[1;32m   1555\u001b[0m ) \u001b[39m-\u001b[39m\u001b[39m>\u001b[39m Answer:  \u001b[39m# pragma: no cover\u001b[39;00m\n\u001b[1;32m   1556\u001b[0m \u001b[39m    \u001b[39m\u001b[39m\"\"\"Query nameservers to find the answer to the question.\u001b[39;00m\n\u001b[1;32m   1557\u001b[0m \n\u001b[1;32m   1558\u001b[0m \u001b[39m    This is a convenience function that uses the default resolver\u001b[39;00m\n\u001b[0;32m   (...)\u001b[0m\n\u001b[1;32m   1562\u001b[0m \u001b[39m    parameters.\u001b[39;00m\n\u001b[1;32m   1563\u001b[0m \u001b[39m    \"\"\"\u001b[39;00m\n\u001b[0;32m-> 1565\u001b[0m     \u001b[39mreturn\u001b[39;00m get_default_resolver()\u001b[39m.\u001b[39;49mresolve(\n\u001b[1;32m   1566\u001b[0m         qname,\n\u001b[1;32m   1567\u001b[0m         rdtype,\n\u001b[1;32m   1568\u001b[0m         rdclass,\n\u001b[1;32m   1569\u001b[0m         tcp,\n\u001b[1;32m   1570\u001b[0m         source,\n\u001b[1;32m   1571\u001b[0m         raise_on_no_answer,\n\u001b[1;32m   1572\u001b[0m         source_port,\n\u001b[1;32m   1573\u001b[0m         lifetime,\n\u001b[1;32m   1574\u001b[0m         search,\n\u001b[1;32m   1575\u001b[0m     )\n",
      "File \u001b[0;32m~/opt/miniconda3/envs/ML_env/lib/python3.10/site-packages/dns/resolver.py:1333\u001b[0m, in \u001b[0;36mResolver.resolve\u001b[0;34m(self, qname, rdtype, rdclass, tcp, source, raise_on_no_answer, source_port, lifetime, search)\u001b[0m\n\u001b[1;32m   1331\u001b[0m     (_, done) \u001b[39m=\u001b[39m resolution\u001b[39m.\u001b[39mquery_result(\u001b[39mNone\u001b[39;00m, ex)\n\u001b[1;32m   1332\u001b[0m     \u001b[39mcontinue\u001b[39;00m\n\u001b[0;32m-> 1333\u001b[0m (answer, done) \u001b[39m=\u001b[39m resolution\u001b[39m.\u001b[39;49mquery_result(response, \u001b[39mNone\u001b[39;49;00m)\n\u001b[1;32m   1334\u001b[0m \u001b[39m# Note we need to say \"if answer is not None\" and not just\u001b[39;00m\n\u001b[1;32m   1335\u001b[0m \u001b[39m# \"if answer\" because answer implements __len__, and python\u001b[39;00m\n\u001b[1;32m   1336\u001b[0m \u001b[39m# will call that.  We want to return if we have an answer\u001b[39;00m\n\u001b[1;32m   1337\u001b[0m \u001b[39m# object, including in cases where its length is 0.\u001b[39;00m\n\u001b[1;32m   1338\u001b[0m \u001b[39mif\u001b[39;00m answer \u001b[39mis\u001b[39;00m \u001b[39mnot\u001b[39;00m \u001b[39mNone\u001b[39;00m:\n",
      "File \u001b[0;32m~/opt/miniconda3/envs/ML_env/lib/python3.10/site-packages/dns/resolver.py:836\u001b[0m, in \u001b[0;36m_Resolution.query_result\u001b[0;34m(self, response, ex)\u001b[0m\n\u001b[1;32m    834\u001b[0m         \u001b[39mself\u001b[39m\u001b[39m.\u001b[39mresolver\u001b[39m.\u001b[39mcache\u001b[39m.\u001b[39mput((\u001b[39mself\u001b[39m\u001b[39m.\u001b[39mqname, \u001b[39mself\u001b[39m\u001b[39m.\u001b[39mrdtype, \u001b[39mself\u001b[39m\u001b[39m.\u001b[39mrdclass), answer)\n\u001b[1;32m    835\u001b[0m     \u001b[39mif\u001b[39;00m answer\u001b[39m.\u001b[39mrrset \u001b[39mis\u001b[39;00m \u001b[39mNone\u001b[39;00m \u001b[39mand\u001b[39;00m \u001b[39mself\u001b[39m\u001b[39m.\u001b[39mraise_on_no_answer:\n\u001b[0;32m--> 836\u001b[0m         \u001b[39mraise\u001b[39;00m NoAnswer(response\u001b[39m=\u001b[39manswer\u001b[39m.\u001b[39mresponse)\n\u001b[1;32m    837\u001b[0m     \u001b[39mreturn\u001b[39;00m (answer, \u001b[39mTrue\u001b[39;00m)\n\u001b[1;32m    838\u001b[0m \u001b[39melif\u001b[39;00m rcode \u001b[39m==\u001b[39m dns\u001b[39m.\u001b[39mrcode\u001b[39m.\u001b[39mNXDOMAIN:\n\u001b[1;32m    839\u001b[0m     \u001b[39m# Further validate the response by making an Answer, even\u001b[39;00m\n\u001b[1;32m    840\u001b[0m     \u001b[39m# if we aren't going to cache it.\u001b[39;00m\n",
      "\u001b[0;31mNoAnswer\u001b[0m: The DNS response does not contain an answer to the question: a.root-servers.net. IN NS"
     ]
    }
   ],
   "source": [
    "q2 = dns.resolver.query(\"a.root-servers.net\", \"ns\")\n",
    "for i in q2.response.answer:\n",
    "    print(\"i = \", i)\n",
    "    for j in i:\n",
    "        print(\"j = \", j)"
   ]
  }
 ],
 "metadata": {
  "kernelspec": {
   "display_name": "Python 3",
   "language": "python",
   "name": "python3"
  },
  "language_info": {
   "codemirror_mode": {
    "name": "ipython",
    "version": 3
   },
   "file_extension": ".py",
   "mimetype": "text/x-python",
   "name": "python",
   "nbconvert_exporter": "python",
   "pygments_lexer": "ipython3",
   "version": "3.10.13"
  }
 },
 "nbformat": 4,
 "nbformat_minor": 2
}
